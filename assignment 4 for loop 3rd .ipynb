{
 "cells": [
  {
   "cell_type": "code",
   "execution_count": null,
   "id": "223e1eb2-e038-4d85-93fd-25ff87ccc825",
   "metadata": {},
   "outputs": [],
   "source": [
    "BASIC LEVEL"
   ]
  },
  {
   "cell_type": "code",
   "execution_count": null,
   "id": "8cb48491-07aa-44e8-874c-38487d31f5bc",
   "metadata": {},
   "outputs": [],
   "source": [
    "1.Write a python program to print the numbers from 1 to 10"
   ]
  },
  {
   "cell_type": "code",
   "execution_count": 1,
   "id": "8b1f2f9e-fdcf-4337-bab7-6a5110b279d8",
   "metadata": {},
   "outputs": [
    {
     "name": "stdout",
     "output_type": "stream",
     "text": [
      "1\n",
      "2\n",
      "3\n",
      "4\n",
      "5\n",
      "6\n",
      "7\n",
      "8\n",
      "9\n",
      "10\n"
     ]
    }
   ],
   "source": [
    "for i in range(1,11):\n",
    "    print(i)"
   ]
  },
  {
   "cell_type": "code",
   "execution_count": null,
   "id": "aeabf43e-edbd-4faa-ab56-034508cfc2b6",
   "metadata": {},
   "outputs": [],
   "source": [
    "2.create a program that calculates the sum of all numbers in a list using for loop"
   ]
  },
  {
   "cell_type": "code",
   "execution_count": 3,
   "id": "094e6ad9-e251-4a47-9e97-22587afc35d7",
   "metadata": {},
   "outputs": [
    {
     "name": "stdout",
     "output_type": "stream",
     "text": [
      "28\n"
     ]
    }
   ],
   "source": [
    "nums=[1,2,3,4,5,6,7]\n",
    "sum=0\n",
    "for i in nums:\n",
    "    sum=sum+i\n",
    "print(sum)"
   ]
  },
  {
   "cell_type": "code",
   "execution_count": null,
   "id": "00d0105a-95c7-4814-9430-0fdef2425283",
   "metadata": {},
   "outputs": [],
   "source": [
    "3.write aprogram to print the characters of  asting in reverse order using for"
   ]
  },
  {
   "cell_type": "code",
   "execution_count": 5,
   "id": "e287bd85-a0c9-446e-bcaa-9b2fd262235d",
   "metadata": {},
   "outputs": [
    {
     "name": "stdout",
     "output_type": "stream",
     "text": [
      "i\n",
      "h\n",
      "s\n",
      "m\n",
      "a\n",
      "v\n"
     ]
    }
   ],
   "source": [
    "character=\"vamshi\"\n",
    "reverse=\"\"\n",
    "for i in character[::-1]:\n",
    "    print(i)\n",
    "    \n",
    "    "
   ]
  },
  {
   "cell_type": "code",
   "execution_count": null,
   "id": "08fb80f7-1dac-4206-959d-eebe21ef9d7c",
   "metadata": {},
   "outputs": [],
   "source": [
    "4.develop a program that finds the factorial of given number using for"
   ]
  },
  {
   "cell_type": "code",
   "execution_count": 23,
   "id": "0d9bdf5f-bf6f-45f7-98a9-cb948de49421",
   "metadata": {},
   "outputs": [
    {
     "name": "stdin",
     "output_type": "stream",
     "text": [
      "enter a number 3\n"
     ]
    },
    {
     "name": "stdout",
     "output_type": "stream",
     "text": [
      "6\n"
     ]
    }
   ],
   "source": [
    "n=int(input(\"enter a number\"))\n",
    "if n<0:\n",
    "    priint(\"fact is not valid\")\n",
    "elif n==0:\n",
    "    print(\"fact is 1\")\n",
    "else:\n",
    "    fact=1\n",
    "    for i in range(1,n+1):\n",
    "        fact=fact*i\n",
    "    print(fact)"
   ]
  },
  {
   "cell_type": "code",
   "execution_count": null,
   "id": "7515aa2f-9fcf-4252-a5fa-bc0014acc7a8",
   "metadata": {},
   "outputs": [],
   "source": [
    "5.craete a program to print the multiplication table of a given number using for"
   ]
  },
  {
   "cell_type": "code",
   "execution_count": 28,
   "id": "99b173ea-620e-4734-b99e-5fcd6ce50aeb",
   "metadata": {},
   "outputs": [
    {
     "name": "stdin",
     "output_type": "stream",
     "text": [
      "enter a number 2\n"
     ]
    },
    {
     "name": "stdout",
     "output_type": "stream",
     "text": [
      "2\n",
      "4\n",
      "6\n",
      "8\n",
      "10\n",
      "12\n",
      "14\n",
      "16\n",
      "18\n",
      "20\n"
     ]
    }
   ],
   "source": [
    "n=int(input(\"enter a number\"))\n",
    "for i in range(1,11):\n",
    "    i=i*n\n",
    "    print(i)"
   ]
  },
  {
   "cell_type": "code",
   "execution_count": null,
   "id": "d204b8c2-ed86-440b-a2e8-52fdc509d7ea",
   "metadata": {},
   "outputs": [],
   "source": [
    "6.write a pprogram that counts the number of even and odd numbers in a lsi using a dfor"
   ]
  },
  {
   "cell_type": "code",
   "execution_count": 32,
   "id": "78abfa1d-3b10-4b40-b723-1b9aa9480dc4",
   "metadata": {},
   "outputs": [
    {
     "name": "stdout",
     "output_type": "stream",
     "text": [
      "even 4\n",
      "odd 5\n"
     ]
    }
   ],
   "source": [
    "l=[1,2,3,4,5,6,7,8,245]\n",
    "even=0\n",
    "odd=0\n",
    "for i in l:\n",
    "    if i%2==0:\n",
    "        even=even+1\n",
    "    else:\n",
    "        odd=odd+1\n",
    "print('even',even)\n",
    "print('odd',odd)\n",
    "    \n",
    "        "
   ]
  },
  {
   "cell_type": "code",
   "execution_count": null,
   "id": "a4f92969-459a-4653-a4a3-e851bd4ffd19",
   "metadata": {},
   "outputs": [],
   "source": [
    "7.develop a program that pprints the suares of numbers from 1 to 5 using fror"
   ]
  },
  {
   "cell_type": "code",
   "execution_count": 33,
   "id": "4024c217-3257-4f92-bf81-0a84941fe9ca",
   "metadata": {},
   "outputs": [
    {
     "name": "stdout",
     "output_type": "stream",
     "text": [
      "1\n",
      "4\n",
      "9\n",
      "16\n",
      "25\n"
     ]
    }
   ],
   "source": [
    "for i in range(1,6):\n",
    "    i=i**2\n",
    "    print(i)"
   ]
  },
  {
   "cell_type": "code",
   "execution_count": null,
   "id": "7687398a-0857-4d72-91a0-e84e5b9dff88",
   "metadata": {},
   "outputs": [],
   "source": [
    "8.cretae a program to find length of a string "
   ]
  },
  {
   "cell_type": "code",
   "execution_count": 37,
   "id": "219aeee8-6adf-4eb7-931e-e6a84fc537ea",
   "metadata": {},
   "outputs": [
    {
     "name": "stdout",
     "output_type": "stream",
     "text": [
      "9\n"
     ]
    }
   ],
   "source": [
    "stri=\"vamshiaaa\"\n",
    "length=0\n",
    "for i in stri:\n",
    "    length=length+1\n",
    "print(length)"
   ]
  },
  {
   "cell_type": "code",
   "execution_count": null,
   "id": "f911683c-d916-4931-819b-a904f67bce11",
   "metadata": {},
   "outputs": [],
   "source": [
    "9.write a program that calculets the average of a list of numbers "
   ]
  },
  {
   "cell_type": "code",
   "execution_count": 40,
   "id": "b5fb40fe-5b2b-4bed-ac11-1d7f90df5ee9",
   "metadata": {},
   "outputs": [
    {
     "name": "stdout",
     "output_type": "stream",
     "text": [
      "3.5\n"
     ]
    }
   ],
   "source": [
    "nums=[1,2,3,4,5,6]\n",
    "total=0\n",
    "length=0\n",
    "for i in nums:\n",
    "    total=total+i\n",
    "    length=length+1\n",
    "    average=total/length\n",
    "print(average)"
   ]
  },
  {
   "cell_type": "code",
   "execution_count": null,
   "id": "ac75a08e-a21c-4cdf-b06f-33525fac7cab",
   "metadata": {},
   "outputs": [],
   "source": [
    "10.develop a program that print first n fibonacci numbers using for"
   ]
  },
  {
   "cell_type": "code",
   "execution_count": 80,
   "id": "b68c1efd-1e76-45be-bac4-e515f7b9040e",
   "metadata": {},
   "outputs": [
    {
     "name": "stdin",
     "output_type": "stream",
     "text": [
      "Enter the number of Fibonacci numbers to generate:  5\n"
     ]
    },
    {
     "name": "stdout",
     "output_type": "stream",
     "text": [
      "0 1 1 2 3 "
     ]
    }
   ],
   "source": [
    "n = int(input(\"Enter the number of Fibonacci numbers to generate: \"))\n",
    "\n",
    "a, b = 0, 1\n",
    "\n",
    "for i in range(n):\n",
    "    print(a, end=\" \")\n",
    "    a, b = b, a + b\n"
   ]
  },
  {
   "cell_type": "code",
   "execution_count": null,
   "id": "918fb2bd-a0e1-4416-a620-ebe201aa9adb",
   "metadata": {},
   "outputs": [],
   "source": [
    "Intermediate level"
   ]
  },
  {
   "cell_type": "code",
   "execution_count": null,
   "id": "24f997c8-7f07-470b-93de-b665ff3af37c",
   "metadata": {},
   "outputs": [],
   "source": [
    "11.write a program to check if a given list contains any duplicates using for loop"
   ]
  },
  {
   "cell_type": "code",
   "execution_count": 10,
   "id": "f812b8fb-7199-4b4e-aca5-fd7f78bc451a",
   "metadata": {},
   "outputs": [
    {
     "name": "stdout",
     "output_type": "stream",
     "text": [
      "[1, 2]\n"
     ]
    }
   ],
   "source": [
    "list1=[1,1,2,3,4,5,8,2,6]\n",
    "list2=[]\n",
    "list3=[]\n",
    "for i in list1:\n",
    "    if i not in list2:\n",
    "        list2.append(i)\n",
    "    else:\n",
    "        list3.append(i)\n",
    "print(list3)\n",
    "    "
   ]
  },
  {
   "cell_type": "code",
   "execution_count": null,
   "id": "8d39e542-5d1d-4a29-8c96-332f12b6d69c",
   "metadata": {},
   "outputs": [],
   "source": [
    "12.create  aprogram that prints the prime numbers in a given range using for loop"
   ]
  },
  {
   "cell_type": "code",
   "execution_count": 103,
   "id": "ecdd05af-e079-443c-95bb-2a77037b1c06",
   "metadata": {},
   "outputs": [
    {
     "name": "stdout",
     "output_type": "stream",
     "text": [
      "1\n",
      "3\n",
      "5\n",
      "7\n",
      "9\n"
     ]
    }
   ],
   "source": [
    "for i in range(1,11):\n",
    "    if i%1==0 and i%2!=0:\n",
    "        print(i)"
   ]
  },
  {
   "cell_type": "code",
   "execution_count": null,
   "id": "54f87d7c-45ad-4b9b-8b97-e4a12de2a50d",
   "metadata": {},
   "outputs": [],
   "source": [
    "13.develop  a program that counts the number of vowles in a string using for\n"
   ]
  },
  {
   "cell_type": "code",
   "execution_count": 104,
   "id": "13c0ebaa-28a4-4c3f-a66a-2661cfc4ba78",
   "metadata": {},
   "outputs": [
    {
     "name": "stdout",
     "output_type": "stream",
     "text": [
      "a\n",
      "i\n"
     ]
    }
   ],
   "source": [
    "str1=\"vamshi\"\n",
    "vowels=['a','i','e','o','u','A','I','E','O','U']\n",
    "for i in str1:\n",
    "    if i in vowels:\n",
    "        print(i)"
   ]
  },
  {
   "cell_type": "code",
   "execution_count": null,
   "id": "e8150a11-01d4-4b6b-a63f-c799d99911a0",
   "metadata": {},
   "outputs": [],
   "source": [
    "14.write  a program to find the maximum element ion a 2D list using nested for loop"
   ]
  },
  {
   "cell_type": "code",
   "execution_count": 16,
   "id": "8a16e89b-80e8-4419-9d4f-7a0b2034ed9c",
   "metadata": {},
   "outputs": [
    {
     "name": "stdout",
     "output_type": "stream",
     "text": [
      "5\n"
     ]
    }
   ],
   "source": [
    "list1=[[1,2,3],[1,2,3],[2,4,5]]\n",
    "maximum=list1[0][0]\n",
    "for row in list1:\n",
    "    for element in row:\n",
    "        if element>maximum:\n",
    "            maximum=j\n",
    "print(maximum)\n",
    "       \n"
   ]
  },
  {
   "cell_type": "code",
   "execution_count": null,
   "id": "6283c423-56c4-45d5-b883-fffe89fbe6b4",
   "metadata": {},
   "outputs": [],
   "source": [
    "15.create  a program that removes all occurences of a specific element from a list using for loop"
   ]
  },
  {
   "cell_type": "code",
   "execution_count": 5,
   "id": "828f5c12-27fc-442a-81af-bed6e4d24588",
   "metadata": {},
   "outputs": [
    {
     "name": "stdout",
     "output_type": "stream",
     "text": [
      "[2, 3, 4, 5, 6]\n"
     ]
    }
   ],
   "source": [
    "list1=[1,2,3,4,5,6,1,1]\n",
    "new_list=[]\n",
    "element=1\n",
    "for i in list1:\n",
    "    if i!=element:\n",
    "        new_list.append(i)\n",
    "print(new_list)"
   ]
  },
  {
   "cell_type": "code",
   "execution_count": null,
   "id": "6b645f40-a269-4fce-b4b2-980543a8e00c",
   "metadata": {},
   "outputs": [],
   "source": [
    "16.develop a program that generates a multiplication table for numbers from 1 to 5 using nested for loop"
   ]
  },
  {
   "cell_type": "code",
   "execution_count": 5,
   "id": "76de716b-192b-4e73-b278-d8650825a235",
   "metadata": {},
   "outputs": [
    {
     "name": "stdout",
     "output_type": "stream",
     "text": [
      "1 2 3 4 5 6 7 8 9 10 2 4 6 8 10 12 14 16 18 20 3 6 9 12 15 18 21 24 27 30 4 8 12 16 20 24 28 32 36 40 5 10 15 20 25 30 35 40 45 50 "
     ]
    }
   ],
   "source": [
    "for i in range(1,6):\n",
    "    for j in range(1,11):\n",
    "        multiplication=j*i\n",
    "        print(multiplication,end=\" \")\n",
    "        "
   ]
  },
  {
   "cell_type": "code",
   "execution_count": null,
   "id": "90db2abe-9f27-46f8-b689-7f4e2d43e8c3",
   "metadata": {},
   "outputs": [],
   "source": [
    "17.write a program that converts a list of fahrenheit temperatures to celsius using a for loop"
   ]
  },
  {
   "cell_type": "code",
   "execution_count": 16,
   "id": "8f4d0cd3-5afc-4f00-98e9-02813cd26642",
   "metadata": {},
   "outputs": [
    {
     "name": "stdout",
     "output_type": "stream",
     "text": [
      "93.33333333333333\n",
      "148.88888888888889\n",
      "204.44444444444443\n",
      "260.0\n"
     ]
    }
   ],
   "source": [
    "list1=[200,300,400,500]\n",
    "for f in list1:\n",
    "    celsius=(f-32)/1.8\n",
    "    print(celsius)"
   ]
  },
  {
   "cell_type": "code",
   "execution_count": null,
   "id": "70943e50-bead-429d-8d94-37d38c4a0350",
   "metadata": {},
   "outputs": [],
   "source": [
    "18.create a program to print the common elements from two lists using for loop"
   ]
  },
  {
   "cell_type": "code",
   "execution_count": 22,
   "id": "cd618649-b920-4bf3-b6f6-dc48acc0ba87",
   "metadata": {},
   "outputs": [
    {
     "name": "stdout",
     "output_type": "stream",
     "text": [
      "[1, 2]\n"
     ]
    }
   ],
   "source": [
    "list1=[1,2,5,6,7]\n",
    "list2=[1,2,9,10,11]\n",
    "common_elements=[]\n",
    "for i in list1:\n",
    "    for j in list2:\n",
    "        if i==j:\n",
    "            common_elements.append(i)\n",
    "print(common_elements)"
   ]
  },
  {
   "cell_type": "code",
   "execution_count": null,
   "id": "9a22de29-3480-4c96-bf18-87d9305a19e3",
   "metadata": {},
   "outputs": [],
   "source": [
    "19.develop A PROGRAM THAT PRINTS THE PATTERN OF RIGHT ANGLED TRIANGLES USING A FOR LOOP.USE '*' TO DRAW THE PATTERN"
   ]
  },
  {
   "cell_type": "code",
   "execution_count": 6,
   "id": "01377d63-31b7-4c8d-889f-6d6d05161b61",
   "metadata": {},
   "outputs": [
    {
     "name": "stdin",
     "output_type": "stream",
     "text": [
      "enter number of rows 5\n"
     ]
    },
    {
     "name": "stdout",
     "output_type": "stream",
     "text": [
      "* \n",
      "* * \n",
      "* * * \n",
      "* * * * \n",
      "* * * * * \n"
     ]
    }
   ],
   "source": [
    " num=int(input(\"enter number of rows\"))\n",
    "for i in range(1,num+1):\n",
    "    for j in range(1,i+1):\n",
    "        print(\"*\",end=\" \")\n",
    "    print()"
   ]
  },
  {
   "cell_type": "code",
   "execution_count": null,
   "id": "2368a984-c065-4179-bda4-9893019e1672",
   "metadata": {},
   "outputs": [],
   "source": [
    "20.write a program to find the greatest common divisor(GCD) of two numbers using a for loop"
   ]
  },
  {
   "cell_type": "code",
   "execution_count": 2,
   "id": "31f1ff2c-4de2-43c0-8482-01b994c32166",
   "metadata": {},
   "outputs": [
    {
     "name": "stdin",
     "output_type": "stream",
     "text": [
      "enter a number 10\n",
      "enter a number 18\n"
     ]
    },
    {
     "name": "stdout",
     "output_type": "stream",
     "text": [
      "2\n"
     ]
    }
   ],
   "source": [
    "num1=int(input(\"enter a number\"))\n",
    "num2=int(input(\"enter a number\"))\n",
    "gcd=1\n",
    "minimum=min(num1,num2)\n",
    "for i in range(1,minimum+1):\n",
    "    if num1%i==0 and num2%i==0:\n",
    "        gcd=i\n",
    "print(gcd)"
   ]
  }
 ],
 "metadata": {
  "kernelspec": {
   "display_name": "Python 3 (ipykernel)",
   "language": "python",
   "name": "python3"
  },
  "language_info": {
   "codemirror_mode": {
    "name": "ipython",
    "version": 3
   },
   "file_extension": ".py",
   "mimetype": "text/x-python",
   "name": "python",
   "nbconvert_exporter": "python",
   "pygments_lexer": "ipython3",
   "version": "3.10.8"
  }
 },
 "nbformat": 4,
 "nbformat_minor": 5
}
